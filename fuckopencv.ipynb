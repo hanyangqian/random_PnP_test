{
 "cells": [
  {
   "cell_type": "markdown",
   "metadata": {},
   "source": [
    "# __Opencv就是一坨狗屎__"
   ]
  },
  {
   "cell_type": "markdown",
   "metadata": {},
   "source": [
    " __其实还行，不算非常狗屎__"
   ]
  },
  {
   "cell_type": "markdown",
   "metadata": {},
   "source": [
    "## __cv2.solvePnP()注意事项__"
   ]
  },
  {
   "cell_type": "markdown",
   "metadata": {},
   "source": [
    "cv.solvePnP(objectPoints, imagePoints, cameraMatrix, distCoeffs[, rvec[, tvec[, useExtrinsicGuess[, flags]]]]\t) ->\tretval, rvec, tvec"
   ]
  },
  {
   "cell_type": "markdown",
   "metadata": {},
   "source": [
    "__输入参数__\n",
    "- objectPoints: 三维世界坐标系下的物体点集合。\n",
    "- imagePoints: 二维图像坐标下的对应像素点集合。\n",
    "- cameraMatrix: 影像平面到传感器坐标系的变换矩阵。\n",
    "- distCoeffs: 畸变系数，如径向畸变项。\n",
    "- useExtrinsicGuess, flags也是可选参数，用于提供初始估计值或设置求解策略。"
   ]
  },
  {
   "cell_type": "markdown",
   "metadata": {},
   "source": [
    "__返回值__\n",
    "- retval：表示求解是否成功的标志位。\n",
    "- rvec：相机的旋转向量，表示相机在空间中的旋转角度。\n",
    "- tvec：相机的平移向量，表示相机在空间中的平移距离。"
   ]
  },
  {
   "cell_type": "markdown",
   "metadata": {},
   "source": [
    "objectPoints, imagePoints, cameraMatrix, distCoeffs  四个参数作为输入参数\n",
    "\n",
    "rvec, tvec 作为输出参数\n",
    "\n",
    "objectPoints是世界坐标系的三维坐标\n",
    "\n",
    "imagePoints是图像上的二维点坐标\n",
    "\n",
    "例如 使用标定好的单目相机拍摄一个矩形物体（已知相机内参＆畸变系数），\n",
    "\n",
    "objectPoints：使用量尺测量物体的左上角、右上角、左下角、右下角之间的距离，以任意一个点作为0点，建立世界坐标系，z值设为0，得到所有点的坐标则为objectPoints，保存在vector中。\n",
    "\n",
    "imagePoints：在图像中找到物体的左上角、右上角、左下角、右下角四个点，其所有点的像素坐标为imagePoints，保存在vector中。"
   ]
  }
 ],
 "metadata": {
  "language_info": {
   "name": "python"
  }
 },
 "nbformat": 4,
 "nbformat_minor": 2
}
